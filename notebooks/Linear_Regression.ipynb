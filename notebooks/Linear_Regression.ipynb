{
 "cells": [
  {
   "cell_type": "markdown",
   "metadata": {},
   "source": [
    "## <font color='blue'>Machine Learning com PySpark</font>"
   ]
  },
  {
   "cell_type": "markdown",
   "metadata": {},
   "source": [
    "## <font color='blue'>Regressão Linear</font>"
   ]
  },
  {
   "cell_type": "markdown",
   "metadata": {},
   "source": [
    "Usaremos Regressão Linear para prever o consumo de combustível de automóveis.\n",
    "\n",
    "A variável **consumo** no dataset1.csv será a variável target (dependente) e as demais variáveis serão candidatas a features (variáveis preditoras ou independentes). \n",
    "\n",
    "Este é, portanto, será um problema de Regressão Linear Múltipla (quando temos mais de 1 variável preditora ou independente)."
   ]
  },
  {
   "cell_type": "markdown",
   "metadata": {},
   "source": [
    "# 0.0 IMPORTS"
   ]
  },
  {
   "cell_type": "code",
   "execution_count": 1,
   "metadata": {},
   "outputs": [],
   "source": [
    "# Importa o findspark e inicializa\n",
    "import findspark\n",
    "findspark.init()"
   ]
  },
  {
   "cell_type": "code",
   "execution_count": 2,
   "metadata": {},
   "outputs": [],
   "source": [
    "# Imports\n",
    "import numpy as np # manipulação de dados\n",
    "\n",
    "import pyspark #algoritmo\n",
    "from pyspark import SparkContext\n",
    "from pyspark.sql import SparkSession\n",
    "from pyspark.sql import Row\n",
    "from pyspark.ml.linalg import Vectors \n",
    "from pyspark.ml.regression import LinearRegression\n",
    "from pyspark.ml.evaluation import RegressionEvaluator"
   ]
  },
  {
   "cell_type": "markdown",
   "metadata": {},
   "source": [
    "## 0.1 Help Functions"
   ]
  },
  {
   "cell_type": "code",
   "execution_count": 3,
   "metadata": {},
   "outputs": [
    {
     "name": "stdout",
     "output_type": "stream",
     "text": [
      "Versão da Linguagem Python Usada Neste Jupyter Notebook: 3.9.7\n"
     ]
    }
   ],
   "source": [
    "# Versão da Linguagem Python\n",
    "from platform import python_version\n",
    "print('Versão da Linguagem Python Usada Neste Jupyter Notebook:', python_version())"
   ]
  },
  {
   "cell_type": "code",
   "execution_count": 4,
   "metadata": {},
   "outputs": [
    {
     "name": "stdout",
     "output_type": "stream",
     "text": [
      "Author: Camila D'Angelo\n",
      "\n",
      "numpy    : 1.20.3\n",
      "pyspark  : 3.3.0\n",
      "findspark: 2.0.1\n",
      "\n"
     ]
    }
   ],
   "source": [
    "# Versões dos pacotes usados neste jupyter notebook\n",
    "%reload_ext watermark\n",
    "%watermark -a \"Camila D'Angelo\" --iversions"
   ]
  },
  {
   "cell_type": "markdown",
   "metadata": {},
   "source": [
    "## Loading data"
   ]
  },
  {
   "cell_type": "code",
   "execution_count": 5,
   "metadata": {},
   "outputs": [],
   "source": [
    "# Criando o Spark Context\n",
    "sc = SparkContext(appName = \"Lab5\")"
   ]
  },
  {
   "cell_type": "code",
   "execution_count": 6,
   "metadata": {},
   "outputs": [],
   "source": [
    "sc.setLogLevel(\"ERROR\")"
   ]
  },
  {
   "cell_type": "code",
   "execution_count": 7,
   "metadata": {},
   "outputs": [],
   "source": [
    "# Criando o Spark Session\n",
    "spSession = SparkSession.builder.master(\"local\").getOrCreate()"
   ]
  },
  {
   "cell_type": "code",
   "execution_count": 8,
   "metadata": {},
   "outputs": [],
   "source": [
    "# Carregando os dados e gerando um RDD\n",
    "dados = sc.textFile(\"dados/dataset1.csv\")"
   ]
  },
  {
   "cell_type": "code",
   "execution_count": 9,
   "metadata": {},
   "outputs": [
    {
     "data": {
      "text/plain": [
       "pyspark.rdd.RDD"
      ]
     },
     "execution_count": 9,
     "metadata": {},
     "output_type": "execute_result"
    }
   ],
   "source": [
    "type(dados)"
   ]
  },
  {
   "cell_type": "code",
   "execution_count": 10,
   "metadata": {},
   "outputs": [
    {
     "data": {
      "text/plain": [
       "dados/dataset1.csv MapPartitionsRDD[1] at textFile at NativeMethodAccessorImpl.java:0"
      ]
     },
     "execution_count": 10,
     "metadata": {},
     "output_type": "execute_result"
    }
   ],
   "source": [
    "# Colocando o RDD em cache. Esse processo otimiza a performance\n",
    "dados.cache()"
   ]
  },
  {
   "cell_type": "code",
   "execution_count": 11,
   "metadata": {},
   "outputs": [
    {
     "data": {
      "text/plain": [
       "399"
      ]
     },
     "execution_count": 11,
     "metadata": {},
     "output_type": "execute_result"
    }
   ],
   "source": [
    "# Número de registros\n",
    "dados.count()"
   ]
  },
  {
   "cell_type": "code",
   "execution_count": 12,
   "metadata": {},
   "outputs": [
    {
     "data": {
      "text/plain": [
       "['consumo,numero_cilindros,capacidade,horsepower,peso,aceleracao,ano,nome',\n",
       " '30,4,79,70,2074,19.5,71,peugeot 304',\n",
       " '30,4,88,76,2065,14.5,71,fiat 124b',\n",
       " '31,4,71,65,1773,19,71,toyota corolla 1200',\n",
       " '35,4,72,69,1613,18,71,datsun 1200']"
      ]
     },
     "execution_count": 12,
     "metadata": {},
     "output_type": "execute_result"
    }
   ],
   "source": [
    "# Visualizando as primeiras linhas\n",
    "dados.take(5)"
   ]
  },
  {
   "cell_type": "code",
   "execution_count": 13,
   "metadata": {},
   "outputs": [
    {
     "data": {
      "text/plain": [
       "398"
      ]
     },
     "execution_count": 13,
     "metadata": {},
     "output_type": "execute_result"
    }
   ],
   "source": [
    "# Removendo a primeira linha do arquivo (cabeçalho)\n",
    "dados2 = dados.filter(lambda x: \"horsepower\" not in x)\n",
    "dados2.count()"
   ]
  },
  {
   "cell_type": "code",
   "execution_count": 14,
   "metadata": {},
   "outputs": [
    {
     "data": {
      "text/plain": [
       "['30,4,79,70,2074,19.5,71,peugeot 304',\n",
       " '30,4,88,76,2065,14.5,71,fiat 124b',\n",
       " '31,4,71,65,1773,19,71,toyota corolla 1200',\n",
       " '35,4,72,69,1613,18,71,datsun 1200',\n",
       " '27,4,97,60,1834,19,71,volkswagen model 111']"
      ]
     },
     "execution_count": 14,
     "metadata": {},
     "output_type": "execute_result"
    }
   ],
   "source": [
    "# Visualizando as primeiras linhas\n",
    "dados2.take(5)"
   ]
  },
  {
   "cell_type": "markdown",
   "metadata": {
    "collapsed": true
   },
   "source": [
    "## Limpeza dos Dados\n",
    "\n",
    "Vamos verificar se há valores ausentes. \n",
    "\n",
    "**Nota**: RDDs são ótimos para processamento, mas ruins para exploração, então converteremos o RDD para DataFrame Spark e então para DataFrame Pandas."
   ]
  },
  {
   "cell_type": "code",
   "execution_count": 15,
   "metadata": {},
   "outputs": [],
   "source": [
    "# Converte RDD para DataFrame Spark: 1º\n",
    "df_spark = dados2.map(lambda x: str(x)).map(lambda w: w.split(',')).toDF()"
   ]
  },
  {
   "cell_type": "code",
   "execution_count": 16,
   "metadata": {},
   "outputs": [
    {
     "data": {
      "text/plain": [
       "pyspark.sql.dataframe.DataFrame"
      ]
     },
     "execution_count": 16,
     "metadata": {},
     "output_type": "execute_result"
    }
   ],
   "source": [
    "type(df_spark)"
   ]
  },
  {
   "cell_type": "code",
   "execution_count": 17,
   "metadata": {},
   "outputs": [],
   "source": [
    "# Converte DataFrame Spark para DataFrame Pandas: 2º\n",
    "df_pandas = df_spark.toPandas()"
   ]
  },
  {
   "cell_type": "code",
   "execution_count": 18,
   "metadata": {},
   "outputs": [
    {
     "data": {
      "text/plain": [
       "pandas.core.frame.DataFrame"
      ]
     },
     "execution_count": 18,
     "metadata": {},
     "output_type": "execute_result"
    }
   ],
   "source": [
    "type(df_pandas)"
   ]
  },
  {
   "cell_type": "code",
   "execution_count": 19,
   "metadata": {},
   "outputs": [
    {
     "data": {
      "text/html": [
       "<div>\n",
       "<style scoped>\n",
       "    .dataframe tbody tr th:only-of-type {\n",
       "        vertical-align: middle;\n",
       "    }\n",
       "\n",
       "    .dataframe tbody tr th {\n",
       "        vertical-align: top;\n",
       "    }\n",
       "\n",
       "    .dataframe thead th {\n",
       "        text-align: right;\n",
       "    }\n",
       "</style>\n",
       "<table border=\"1\" class=\"dataframe\">\n",
       "  <thead>\n",
       "    <tr style=\"text-align: right;\">\n",
       "      <th></th>\n",
       "      <th>_1</th>\n",
       "      <th>_2</th>\n",
       "      <th>_3</th>\n",
       "      <th>_4</th>\n",
       "      <th>_5</th>\n",
       "      <th>_6</th>\n",
       "      <th>_7</th>\n",
       "      <th>_8</th>\n",
       "    </tr>\n",
       "  </thead>\n",
       "  <tbody>\n",
       "    <tr>\n",
       "      <th>0</th>\n",
       "      <td>30</td>\n",
       "      <td>4</td>\n",
       "      <td>79</td>\n",
       "      <td>70</td>\n",
       "      <td>2074</td>\n",
       "      <td>19.5</td>\n",
       "      <td>71</td>\n",
       "      <td>peugeot 304</td>\n",
       "    </tr>\n",
       "    <tr>\n",
       "      <th>1</th>\n",
       "      <td>30</td>\n",
       "      <td>4</td>\n",
       "      <td>88</td>\n",
       "      <td>76</td>\n",
       "      <td>2065</td>\n",
       "      <td>14.5</td>\n",
       "      <td>71</td>\n",
       "      <td>fiat 124b</td>\n",
       "    </tr>\n",
       "    <tr>\n",
       "      <th>2</th>\n",
       "      <td>31</td>\n",
       "      <td>4</td>\n",
       "      <td>71</td>\n",
       "      <td>65</td>\n",
       "      <td>1773</td>\n",
       "      <td>19</td>\n",
       "      <td>71</td>\n",
       "      <td>toyota corolla 1200</td>\n",
       "    </tr>\n",
       "    <tr>\n",
       "      <th>3</th>\n",
       "      <td>35</td>\n",
       "      <td>4</td>\n",
       "      <td>72</td>\n",
       "      <td>69</td>\n",
       "      <td>1613</td>\n",
       "      <td>18</td>\n",
       "      <td>71</td>\n",
       "      <td>datsun 1200</td>\n",
       "    </tr>\n",
       "    <tr>\n",
       "      <th>4</th>\n",
       "      <td>27</td>\n",
       "      <td>4</td>\n",
       "      <td>97</td>\n",
       "      <td>60</td>\n",
       "      <td>1834</td>\n",
       "      <td>19</td>\n",
       "      <td>71</td>\n",
       "      <td>volkswagen model 111</td>\n",
       "    </tr>\n",
       "  </tbody>\n",
       "</table>\n",
       "</div>"
      ],
      "text/plain": [
       "   _1 _2  _3  _4    _5    _6  _7                    _8\n",
       "0  30  4  79  70  2074  19.5  71           peugeot 304\n",
       "1  30  4  88  76  2065  14.5  71             fiat 124b\n",
       "2  31  4  71  65  1773    19  71   toyota corolla 1200\n",
       "3  35  4  72  69  1613    18  71           datsun 1200\n",
       "4  27  4  97  60  1834    19  71  volkswagen model 111"
      ]
     },
     "execution_count": 19,
     "metadata": {},
     "output_type": "execute_result"
    }
   ],
   "source": [
    "df_pandas.head()"
   ]
  },
  {
   "cell_type": "code",
   "execution_count": 20,
   "metadata": {},
   "outputs": [
    {
     "data": {
      "text/plain": [
       "False"
      ]
     },
     "execution_count": 20,
     "metadata": {},
     "output_type": "execute_result"
    }
   ],
   "source": [
    "# Tem valores nulos?\n",
    "df_pandas.isnull().values.any()"
   ]
  },
  {
   "cell_type": "markdown",
   "metadata": {},
   "source": [
    "> Não há valor nulo, mas será que há valor ausente (falta de informação)?"
   ]
  },
  {
   "cell_type": "code",
   "execution_count": 21,
   "metadata": {},
   "outputs": [
    {
     "data": {
      "text/plain": [
       "6"
      ]
     },
     "execution_count": 21,
     "metadata": {},
     "output_type": "execute_result"
    }
   ],
   "source": [
    "# Verifica se há alguma linha com caracter especial \"?\"\n",
    "total = np.sum(df_pandas.apply(lambda x: x.str.contains('\\?')).values)\n",
    "total"
   ]
  },
  {
   "cell_type": "code",
   "execution_count": 22,
   "metadata": {},
   "outputs": [
    {
     "data": {
      "text/plain": [
       "(array([ 48, 126, 330, 336, 354, 374], dtype=int64),\n",
       " array([3, 3, 3, 3, 3, 3], dtype=int64))"
      ]
     },
     "execution_count": 22,
     "metadata": {},
     "output_type": "execute_result"
    }
   ],
   "source": [
    "# Vejamos quais linhas e colunas têm o caracter especial\n",
    "# linha\n",
    "# coluna\n",
    "np.where(df_pandas.apply(lambda x: x.str.contains('\\?')).values)"
   ]
  },
  {
   "cell_type": "code",
   "execution_count": 23,
   "metadata": {},
   "outputs": [
    {
     "data": {
      "text/plain": [
       "_1                    40.9\n",
       "_2                       4\n",
       "_3                      85\n",
       "_4                       ?\n",
       "_5                    1835\n",
       "_6                    17.3\n",
       "_7                      80\n",
       "_8    renault lecar deluxe\n",
       "Name: 330, dtype: object"
      ]
     },
     "execution_count": 23,
     "metadata": {},
     "output_type": "execute_result"
    }
   ],
   "source": [
    "# Visualizando uma linha\n",
    "df_pandas.iloc[330]"
   ]
  },
  {
   "cell_type": "code",
   "execution_count": 24,
   "metadata": {},
   "outputs": [],
   "source": [
    "# Usando um valor padrão para average HP (que será usado para preencher os valores ausentes)\n",
    "mediaHP = sc.broadcast(75.0)"
   ]
  },
  {
   "cell_type": "code",
   "execution_count": 25,
   "metadata": {},
   "outputs": [],
   "source": [
    "# Função para limpeza dos dados\n",
    "def limpaDados(inputStr) :\n",
    "    \n",
    "    # Variável global\n",
    "    global mediaHP\n",
    "    \n",
    "    # Lista de atributos\n",
    "    attList = inputStr.split(\",\")\n",
    "    \n",
    "    # Substitui o caracter ? por um valor na coluna de índice 3\n",
    "    hpValue = attList[3]\n",
    "    if hpValue == \"?\":\n",
    "        hpValue = mediaHP.value\n",
    "       \n",
    "    # Cria uma linha usando a função Row, limpando e convertendo os dados de string para float\n",
    "    linhas = Row(consumo = float(attList[0]), \n",
    "                 numero_cilindros = float(attList[1]), \n",
    "                 capacidade = float(attList[2]), \n",
    "                 hosrsepower = float(hpValue), \n",
    "                 peso = float(attList[4]), \n",
    "                 aceleracao = float(attList[5]), \n",
    "                 ano = float(attList[6]), \n",
    "                 nome = attList[7]) \n",
    "    return linhas"
   ]
  },
  {
   "cell_type": "code",
   "execution_count": 26,
   "metadata": {},
   "outputs": [
    {
     "data": {
      "text/plain": [
       "[Row(consumo=30.0, numero_cilindros=4.0, capacidade=79.0, hosrsepower=70.0, peso=2074.0, aceleracao=19.5, ano=71.0, nome='peugeot 304'),\n",
       " Row(consumo=30.0, numero_cilindros=4.0, capacidade=88.0, hosrsepower=76.0, peso=2065.0, aceleracao=14.5, ano=71.0, nome='fiat 124b'),\n",
       " Row(consumo=31.0, numero_cilindros=4.0, capacidade=71.0, hosrsepower=65.0, peso=1773.0, aceleracao=19.0, ano=71.0, nome='toyota corolla 1200'),\n",
       " Row(consumo=35.0, numero_cilindros=4.0, capacidade=72.0, hosrsepower=69.0, peso=1613.0, aceleracao=18.0, ano=71.0, nome='datsun 1200'),\n",
       " Row(consumo=27.0, numero_cilindros=4.0, capacidade=97.0, hosrsepower=60.0, peso=1834.0, aceleracao=19.0, ano=71.0, nome='volkswagen model 111')]"
      ]
     },
     "execution_count": 26,
     "metadata": {},
     "output_type": "execute_result"
    }
   ],
   "source": [
    "# Executa a função no RDD\n",
    "dados3 = dados2.map(limpaDados)\n",
    "dados3.cache()\n",
    "dados3.take(5)"
   ]
  },
  {
   "cell_type": "markdown",
   "metadata": {},
   "source": [
    "## Análise Exploratória de Dados"
   ]
  },
  {
   "cell_type": "code",
   "execution_count": 27,
   "metadata": {},
   "outputs": [],
   "source": [
    "# Cria um Dataframe\n",
    "df_carros = spSession.createDataFrame(dados3)"
   ]
  },
  {
   "cell_type": "code",
   "execution_count": 28,
   "metadata": {},
   "outputs": [
    {
     "name": "stdout",
     "output_type": "stream",
     "text": [
      "+-------+-----------------+-----------------+\n",
      "|summary|          consumo| numero_cilindros|\n",
      "+-------+-----------------+-----------------+\n",
      "|  count|              398|              398|\n",
      "|   mean|23.51457286432161|5.454773869346734|\n",
      "| stddev|7.815984312565782|1.701004244533212|\n",
      "|    min|              9.0|              3.0|\n",
      "|    max|             46.6|              8.0|\n",
      "+-------+-----------------+-----------------+\n",
      "\n"
     ]
    }
   ],
   "source": [
    "# Estatísticas descritivas de duas variáveis (como exemplo)\n",
    "df_carros.select(\"consumo\", \"numero_cilindros\").describe().show()"
   ]
  },
  {
   "cell_type": "code",
   "execution_count": 29,
   "metadata": {},
   "outputs": [
    {
     "name": "stdout",
     "output_type": "stream",
     "text": [
      "Correlação da Variável Target com: consumo 1.0\n",
      "Correlação da Variável Target com: numero_cilindros -0.7753962854205546\n",
      "Correlação da Variável Target com: capacidade -0.8042028248058979\n",
      "Correlação da Variável Target com: hosrsepower -0.7747041523498721\n",
      "Correlação da Variável Target com: peso -0.8317409332443347\n",
      "Correlação da Variável Target com: aceleracao 0.42028891210164976\n",
      "Correlação da Variável Target com: ano 0.5792671330833099\n"
     ]
    }
   ],
   "source": [
    "# Encontrando a correlação entre a variável target com as variáveis preditoras (exceto o nome)\n",
    "for i in df_carros.columns:\n",
    "    if not(isinstance(df_carros.select(i).take(1)[0][0], str)) :\n",
    "        print(\"Correlação da Variável Target com:\", i, df_carros.stat.corr('consumo', i))"
   ]
  },
  {
   "cell_type": "markdown",
   "metadata": {},
   "source": [
    "## Pré-Processamento dos Dados"
   ]
  },
  {
   "cell_type": "code",
   "execution_count": 30,
   "metadata": {},
   "outputs": [],
   "source": [
    "# Convertendo para um LabeledPoint (target, Vector[features])\n",
    "# Remove colunas não relevantes ou com baixa correlação\n",
    "def transformaVar(row) :\n",
    "    obj = (row[\"consumo\"], Vectors.dense([row[\"peso\"], row[\"capacidade\"], row[\"numero_cilindros\"]]))\n",
    "    return obj"
   ]
  },
  {
   "cell_type": "code",
   "execution_count": 31,
   "metadata": {},
   "outputs": [],
   "source": [
    "# Aplica a função no RDD e cria outro RDD\n",
    "dados4 = dados3.map(transformaVar)"
   ]
  },
  {
   "cell_type": "code",
   "execution_count": 32,
   "metadata": {},
   "outputs": [
    {
     "data": {
      "text/plain": [
       "[(30.0, DenseVector([2074.0, 79.0, 4.0])),\n",
       " (30.0, DenseVector([2065.0, 88.0, 4.0])),\n",
       " (31.0, DenseVector([1773.0, 71.0, 4.0])),\n",
       " (35.0, DenseVector([1613.0, 72.0, 4.0])),\n",
       " (27.0, DenseVector([1834.0, 97.0, 4.0]))]"
      ]
     },
     "execution_count": 32,
     "metadata": {},
     "output_type": "execute_result"
    }
   ],
   "source": [
    "# Visualiza\n",
    "dados4.take(5)"
   ]
  },
  {
   "cell_type": "code",
   "execution_count": 33,
   "metadata": {},
   "outputs": [],
   "source": [
    "# Converte o RDD para DataFrame do Spark\n",
    "df_carros = spSession.createDataFrame(dados4, [\"label\", \"features\"])"
   ]
  },
  {
   "cell_type": "code",
   "execution_count": 34,
   "metadata": {},
   "outputs": [
    {
     "name": "stdout",
     "output_type": "stream",
     "text": [
      "+-----+------------------+\n",
      "|label|          features|\n",
      "+-----+------------------+\n",
      "| 30.0| [2074.0,79.0,4.0]|\n",
      "| 30.0| [2065.0,88.0,4.0]|\n",
      "| 31.0| [1773.0,71.0,4.0]|\n",
      "| 35.0| [1613.0,72.0,4.0]|\n",
      "| 27.0| [1834.0,97.0,4.0]|\n",
      "| 26.0| [1955.0,91.0,4.0]|\n",
      "| 24.0|[2278.0,113.0,4.0]|\n",
      "| 25.0| [2126.0,97.5,4.0]|\n",
      "| 23.0| [2254.0,97.0,4.0]|\n",
      "| 20.0|[2408.0,140.0,4.0]|\n",
      "+-----+------------------+\n",
      "only showing top 10 rows\n",
      "\n"
     ]
    }
   ],
   "source": [
    "# Visualiza label (y) e atributos (x)\n",
    "# Label: target\n",
    "# Features: preditoras\n",
    "df_carros.select(\"label\",\"features\").show(10)"
   ]
  },
  {
   "cell_type": "markdown",
   "metadata": {},
   "source": [
    "> Dados de **Treino e Teste**"
   ]
  },
  {
   "cell_type": "code",
   "execution_count": 35,
   "metadata": {},
   "outputs": [],
   "source": [
    "# Divisão em dados de Treino e de Teste com split 70/30\n",
    "(dados_treino, dados_teste) = df_carros.randomSplit([0.7, 0.3])"
   ]
  },
  {
   "cell_type": "code",
   "execution_count": 36,
   "metadata": {},
   "outputs": [
    {
     "data": {
      "text/plain": [
       "274"
      ]
     },
     "execution_count": 36,
     "metadata": {},
     "output_type": "execute_result"
    }
   ],
   "source": [
    "dados_treino.count()"
   ]
  },
  {
   "cell_type": "code",
   "execution_count": 37,
   "metadata": {},
   "outputs": [
    {
     "data": {
      "text/plain": [
       "124"
      ]
     },
     "execution_count": 37,
     "metadata": {},
     "output_type": "execute_result"
    }
   ],
   "source": [
    "dados_teste.count()"
   ]
  },
  {
   "cell_type": "markdown",
   "metadata": {},
   "source": [
    "## Machine Learning"
   ]
  },
  {
   "cell_type": "code",
   "execution_count": 38,
   "metadata": {},
   "outputs": [],
   "source": [
    "# Cria o objeto\n",
    "linearReg = LinearRegression()"
   ]
  },
  {
   "cell_type": "code",
   "execution_count": 39,
   "metadata": {},
   "outputs": [],
   "source": [
    "# Treina o objeto com dados e cria o modelo\n",
    "modelo = linearReg.fit(dados_treino)"
   ]
  },
  {
   "cell_type": "code",
   "execution_count": 40,
   "metadata": {},
   "outputs": [
    {
     "name": "stdout",
     "output_type": "stream",
     "text": [
      "LinearRegressionModel: uid=LinearRegression_d63d6fd0629e, numFeatures=3\n"
     ]
    }
   ],
   "source": [
    "print(modelo)"
   ]
  },
  {
   "cell_type": "code",
   "execution_count": 41,
   "metadata": {},
   "outputs": [
    {
     "name": "stdout",
     "output_type": "stream",
     "text": [
      "Coeficientes: [-0.006409661769255323,-0.006556894624644381,-0.2761909233422483]\n",
      "Intercepto: 45.51760263246458\n"
     ]
    }
   ],
   "source": [
    "# Imprimindo os coeficientes (o que o modelo aprendeu)\n",
    "print(\"Coeficientes: \" + str(modelo.coefficients))\n",
    "print(\"Intercepto: \" + str(modelo.intercept))"
   ]
  },
  {
   "cell_type": "code",
   "execution_count": 42,
   "metadata": {},
   "outputs": [],
   "source": [
    "# Previsões com dados de teste\n",
    "predictions = modelo.transform(dados_teste)"
   ]
  },
  {
   "cell_type": "code",
   "execution_count": 43,
   "metadata": {},
   "outputs": [
    {
     "name": "stdout",
     "output_type": "stream",
     "text": [
      "+------------------+------------------+\n",
      "|          features|        prediction|\n",
      "+------------------+------------------+\n",
      "|[4615.0,360.0,8.0]|11.367004115741302|\n",
      "|[3664.0,350.0,8.0]|17.528161404549557|\n",
      "|[4952.0,429.0,8.0]| 8.754522370401787|\n",
      "|[3169.0,302.0,8.0]|21.015674922313874|\n",
      "|[4464.0,400.0,8.0]|12.072587257913078|\n",
      "|[4699.0,350.0,8.0]|10.894161473370296|\n",
      "|[5140.0,400.0,8.0]| 7.739655901896477|\n",
      "|[3672.0,304.0,8.0]|17.778501263129154|\n",
      "|[4042.0,302.0,8.0]|15.420040197753977|\n",
      "|[4077.0,318.0,8.0]|15.090791721835728|\n",
      "|[4129.0,351.0,8.0]|14.541111787221187|\n",
      "|[4457.0,318.0,8.0]|12.655120249518703|\n",
      "|[4657.0,351.0,8.0]|11.156810373054377|\n",
      "|[3158.0,250.0,6.0]| 21.97952156894168|\n",
      "|[3336.0,250.0,6.0]|20.838601774014233|\n",
      "|[3432.0,250.0,6.0]|20.223274244165722|\n",
      "|[3693.0,350.0,8.0]|17.342281213241154|\n",
      "|[3730.0,258.0,6.0]|18.260739879930483|\n",
      "|[4082.0,350.0,8.0]|14.848922785000834|\n",
      "|[3278.0,250.0,6.0]|21.210362156631042|\n",
      "+------------------+------------------+\n",
      "only showing top 20 rows\n",
      "\n"
     ]
    }
   ],
   "source": [
    "# Visualiza as previsões\n",
    "predictions.select(\"features\", \"prediction\").show()"
   ]
  },
  {
   "cell_type": "code",
   "execution_count": 44,
   "metadata": {},
   "outputs": [],
   "source": [
    "# Coeficiente de determinação R2\n",
    "avaliador = RegressionEvaluator(predictionCol = \"prediction\", labelCol = \"label\", metricName = \"r2\")"
   ]
  },
  {
   "cell_type": "code",
   "execution_count": 45,
   "metadata": {
    "scrolled": true
   },
   "outputs": [
    {
     "data": {
      "text/plain": [
       "0.6658633721716773"
      ]
     },
     "execution_count": 45,
     "metadata": {},
     "output_type": "execute_result"
    }
   ],
   "source": [
    "# Resultado\n",
    "avaliador.evaluate(predictions) "
   ]
  },
  {
   "cell_type": "code",
   "execution_count": 47,
   "metadata": {},
   "outputs": [
    {
     "name": "stdout",
     "output_type": "stream",
     "text": [
      "Coeficiente de determinação (nivel de performance): 0.6658633721716773\n"
     ]
    }
   ],
   "source": [
    "print(\"Coeficiente de determinação (nivel de performance):\", avaliador.evaluate(predictions) )"
   ]
  }
 ],
 "metadata": {
  "anaconda-cloud": {},
  "kernelspec": {
   "display_name": "Python 3 (ipykernel)",
   "language": "python",
   "name": "python3"
  },
  "language_info": {
   "codemirror_mode": {
    "name": "ipython",
    "version": 3
   },
   "file_extension": ".py",
   "mimetype": "text/x-python",
   "name": "python",
   "nbconvert_exporter": "python",
   "pygments_lexer": "ipython3",
   "version": "3.9.7"
  }
 },
 "nbformat": 4,
 "nbformat_minor": 1
}
